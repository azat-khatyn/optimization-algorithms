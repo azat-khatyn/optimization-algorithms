{
 "cells": [
  {
   "cell_type": "code",
   "execution_count": 13,
   "id": "directed-stage",
   "metadata": {},
   "outputs": [],
   "source": [
    "import math\n",
    "import matplotlib.pyplot as plt"
   ]
  },
  {
   "cell_type": "markdown",
   "id": "hairy-commons",
   "metadata": {},
   "source": [
    "### Bracketing \n",
    "\n",
    "For a unimodal *f* bracketed by the interval [a, b]:\n",
    "\n",
    "Given a limit of number of times we can query the objective function, *Fibonacci search* is guaranteed to maximally shrink the bracketed interval."
   ]
  },
  {
   "cell_type": "code",
   "execution_count": 43,
   "id": "entitled-tunnel",
   "metadata": {},
   "outputs": [],
   "source": [
    "def fibonacci_search(func, a, b, n, eps):\n",
    "    s = (1 - math.sqrt(5)) / (1 + math.sqrt(5))\n",
    "    phi = (1 + math.sqrt(5)) / 2\n",
    "    ro = 1 / (phi * (1 - s ** (n + 1)) / (1 - s ** n))\n",
    "    d = ro * b + (1 - ro) * a\n",
    "    print(d)\n",
    "    yd = func(d)\n",
    "\n",
    "    for i in range(1, n):\n",
    "        if i == n - 1:\n",
    "            c = eps * a + (1 - eps) * d\n",
    "        else:\n",
    "            c = ro * a + (1 - ro) * b\n",
    "\n",
    "        yc = f(c)\n",
    "\n",
    "        if yc < yd:\n",
    "            b, d, yd = d, c, yc\n",
    "        else:\n",
    "            a, b = b, c\n",
    "\n",
    "        ro = 1 / (phi * (1 - s ** (n - i + 1)) / 1 - s ** (n - i))\n",
    "\n",
    "    if a < b:\n",
    "        return (a, b)\n",
    "    return (b, a)"
   ]
  },
  {
   "cell_type": "markdown",
   "id": "trained-regard",
   "metadata": {},
   "source": [
    "Exmples of running the algorithm"
   ]
  },
  {
   "cell_type": "code",
   "execution_count": 48,
   "id": "removed-siemens",
   "metadata": {},
   "outputs": [],
   "source": [
    "def f(x):\n",
    "    return x**2\n"
   ]
  },
  {
   "cell_type": "code",
   "execution_count": 51,
   "id": "funded-teacher",
   "metadata": {},
   "outputs": [
    {
     "data": {
      "image/png": "[encoded data removed]",
      "text/plain": [
       "<Figure size 432x288 with 1 Axes>"
      ]
     },
     "metadata": {
      "needs_background": "light"
     },
     "output_type": "display_data"
    }
   ],
   "source": [
    "z = np.linspace(0,5,3001)\n",
    "t = np.arange(0,40000,4000)\n",
    "\n",
    "for tval in t:\n",
    "    plt.plot(z, f(z))\n",
    "plt.show()"
   ]
  },
  {
   "cell_type": "code",
   "execution_count": 44,
   "id": "raised-nirvana",
   "metadata": {},
   "outputs": [
    {
     "name": "stdout",
     "output_type": "stream",
     "text": [
      "2.3606797003471574\n",
      "(-0.00047789150707104773, 0.0017143070261253987)\n"
     ]
    }
   ],
   "source": [
    "print(fibonacci_search(f, -10, 10, 20, 0.01))"
   ]
  },
  {
   "cell_type": "code",
   "execution_count": 45,
   "id": "complex-obligation",
   "metadata": {},
   "outputs": [
    {
     "data": {
      "text/plain": [
       "5.5728086476311445"
      ]
     },
     "execution_count": 45,
     "metadata": {},
     "output_type": "execute_result"
    }
   ],
   "source": [
    "f(2.3606797003471574)"
   ]
  },
  {
   "cell_type": "code",
   "execution_count": 46,
   "id": "considered-handling",
   "metadata": {},
   "outputs": [],
   "source": [
    "def f_new(x):\n",
    "    return 0.5 * x**3 - 2*x**2 + x - 1"
   ]
  },
  {
   "cell_type": "code",
   "execution_count": 52,
   "id": "stuffed-pledge",
   "metadata": {},
   "outputs": [
    {
     "data": {
      "image/png": "[encoded data removed]",
      "text/plain": [
       "<Figure size 432x288 with 1 Axes>"
      ]
     },
     "metadata": {
      "needs_background": "light"
     },
     "output_type": "display_data"
    }
   ],
   "source": [
    "z = np.linspace(0,5,3001)\n",
    "t = np.arange(0,40000,4000)\n",
    "\n",
    "for tval in t:\n",
    "    plt.plot(z, f_new(z))\n",
    "plt.show()"
   ]
  },
  {
   "cell_type": "code",
   "execution_count": 47,
   "id": "bearing-linux",
   "metadata": {},
   "outputs": [
    {
     "name": "stdout",
     "output_type": "stream",
     "text": [
      "2.472135954999579\n",
      "(2.4721359549995556, 2.4721359551324777)\n"
     ]
    }
   ],
   "source": [
    "print(fibonacci_search(f_new, 0, 4, 50, 0.0001))"
   ]
  }
 ],
 "metadata": {
  "kernelspec": {
   "display_name": "Python 3",
   "language": "python",
   "name": "python3"
  },
  "language_info": {
   "codemirror_mode": {
    "name": "ipython",
    "version": 3
   },
   "file_extension": ".py",
   "mimetype": "text/x-python",
   "name": "python",
   "nbconvert_exporter": "python",
   "pygments_lexer": "ipython3",
   "version": "3.9.1"
  }
 },
 "nbformat": 4,
 "nbformat_minor": 5
}
